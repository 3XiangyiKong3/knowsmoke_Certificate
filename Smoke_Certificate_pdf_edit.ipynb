{
 "cells": [
  {
   "cell_type": "code",
   "execution_count": 1,
   "metadata": {},
   "outputs": [],
   "source": [
    "from bs4 import BeautifulSoup\n",
    "import pandas as pd\n",
    "import pdfkit"
   ]
  },
  {
   "cell_type": "code",
   "execution_count": 78,
   "metadata": {},
   "outputs": [
    {
     "name": "stdout",
     "output_type": "stream",
     "text": [
      "zsh:1: command not found: brew\n"
     ]
    }
   ],
   "source": [
    "! brew install Caskroom/cask/wkhtmltopdf"
   ]
  },
  {
   "cell_type": "code",
   "execution_count": 50,
   "metadata": {},
   "outputs": [],
   "source": [
    "june_alfa_df = pd.read_csv('/Users/xiangyikong/Documents/Knowsmoke/Knowsmoke Master Database List - June 2022 (RWAR).csv')"
   ]
  },
  {
   "cell_type": "code",
   "execution_count": 54,
   "metadata": {},
   "outputs": [],
   "source": [
    "june_alfa_df['Combine_info'] = june_alfa_df['Year'].astype(str) + ' ' + june_alfa_df['Make'].astype(str) + ' ' + june_alfa_df['Model'].astype(str) + ' ' + june_alfa_df['Type'].astype(str)"
   ]
  },
  {
   "cell_type": "code",
   "execution_count": 58,
   "metadata": {},
   "outputs": [
    {
     "data": {
      "text/html": [
       "<div>\n",
       "<style scoped>\n",
       "    .dataframe tbody tr th:only-of-type {\n",
       "        vertical-align: middle;\n",
       "    }\n",
       "\n",
       "    .dataframe tbody tr th {\n",
       "        vertical-align: top;\n",
       "    }\n",
       "\n",
       "    .dataframe thead th {\n",
       "        text-align: right;\n",
       "    }\n",
       "</style>\n",
       "<table border=\"1\" class=\"dataframe\">\n",
       "  <thead>\n",
       "    <tr style=\"text-align: right;\">\n",
       "      <th></th>\n",
       "      <th>VIN</th>\n",
       "      <th>Combine_info</th>\n",
       "      <th>Smoke History</th>\n",
       "      <th>Test Date</th>\n",
       "    </tr>\n",
       "  </thead>\n",
       "  <tbody>\n",
       "    <tr>\n",
       "      <th>0</th>\n",
       "      <td>KM8J23A45KU943607</td>\n",
       "      <td>2019 HYUNDAI TUCSON SE</td>\n",
       "      <td>Positive</td>\n",
       "      <td>6/3/2022</td>\n",
       "    </tr>\n",
       "    <tr>\n",
       "      <th>1</th>\n",
       "      <td>ZARFAMBN7K7615376</td>\n",
       "      <td>2019 ALFA ROMEO GIULIA TI</td>\n",
       "      <td>Positive</td>\n",
       "      <td>6/1/2022</td>\n",
       "    </tr>\n",
       "    <tr>\n",
       "      <th>2</th>\n",
       "      <td>WBY8P4C51K7D10702</td>\n",
       "      <td>2019 BMW I3 REX</td>\n",
       "      <td>Negative</td>\n",
       "      <td>6/1/2022</td>\n",
       "    </tr>\n",
       "    <tr>\n",
       "      <th>3</th>\n",
       "      <td>ZARFAMBN4K7621054</td>\n",
       "      <td>2019 ALFA ROMEO GIULIA TI</td>\n",
       "      <td>Negative</td>\n",
       "      <td>6/1/2022</td>\n",
       "    </tr>\n",
       "    <tr>\n",
       "      <th>4</th>\n",
       "      <td>2C3CDXL96NH118792</td>\n",
       "      <td>2022 DODGE CHARGER SRT HELLCAT</td>\n",
       "      <td>Negative</td>\n",
       "      <td>6/2/2022</td>\n",
       "    </tr>\n",
       "  </tbody>\n",
       "</table>\n",
       "</div>"
      ],
      "text/plain": [
       "                 VIN                    Combine_info Smoke History Test Date\n",
       "0  KM8J23A45KU943607          2019 HYUNDAI TUCSON SE      Positive  6/3/2022\n",
       "1  ZARFAMBN7K7615376       2019 ALFA ROMEO GIULIA TI      Positive  6/1/2022\n",
       "2  WBY8P4C51K7D10702                 2019 BMW I3 REX      Negative  6/1/2022\n",
       "3  ZARFAMBN4K7621054       2019 ALFA ROMEO GIULIA TI      Negative  6/1/2022\n",
       "4  2C3CDXL96NH118792  2022 DODGE CHARGER SRT HELLCAT      Negative  6/2/2022"
      ]
     },
     "execution_count": 58,
     "metadata": {},
     "output_type": "execute_result"
    }
   ],
   "source": [
    "test_df = june_alfa_df[['VIN',\"Combine_info\",\"Smoke History\",\"Test Date\"]][:5]\n",
    "test_df"
   ]
  },
  {
   "cell_type": "code",
   "execution_count": 62,
   "metadata": {},
   "outputs": [],
   "source": [
    "dealership = 'Russell West Brook Alfa Romeo Maserati of Van Nuys'\n",
    "address = '5711 Van Nuys Blvd, Van Nuys, CA 91401.'"
   ]
  },
  {
   "cell_type": "code",
   "execution_count": 9,
   "metadata": {},
   "outputs": [],
   "source": [
    "def create_certificate_for_passed_inspection(VIN,result,date,address,dealership,detail_info):\n",
    "    with open('knowsmoke certificate/index.html', 'r') as file_1:\n",
    "        soup = BeautifulSoup(file_1, features='html.parser')\n",
    "\n",
    "    vechicle_VIN = soup.find('label', attrs={'class': \"vin-num\"})\n",
    "    vechicle_VIN.contents[0].replace_with(VIN)# replace VIN\n",
    "    vechicle_VIN.contents[2].replace_with(detail_info)# replace year make model type\n",
    "\n",
    "    test_date = soup.find('label', attrs={'class': \"test-date\"})\n",
    "    test_date.contents[0].replace_with(date)# replace test date\n",
    "\n",
    "    dealership_name = soup.find('div', attrs={'class': \"report-by\"})\n",
    "    dealership_name.contents[0].replace_with(dealership)# replace dealership full name\n",
    "\n",
    "    dealership_address = soup.find('p')\n",
    "    dealership_address.contents[0].replace_with(address)# replace dealership full address\n",
    "\n",
    "    footnotes = soup.find('div', attrs={'class': \"footer-det\"})\n",
    "    footnotes.contents[0].replace_with('I have reviewed and received a copy of the Knowsmoke Smoke History Report for this vehicle' \\\n",
    "    + '(VIN: ' + VIN + '), which is based on information collected by Knowsmoke and available as of ' + date + '.')# replace footnotes\n",
    "\n",
    "    # result_paragraph = soup.find('p', attrs={'class': \"tr-p\"})\n",
    "    # # if results are different, create another template. \n",
    "    # result_paragraph.contents[0].replace_with(\"This vehicle has undergone inspection and qualifies as a Certified Smoke-Free vehicle by Knowsmoke.\")# replace result\n",
    "\n",
    "    file_name = 'knowsmoke certificate/' + VIN+'_certificate.html'\n",
    "    with open(file_name, 'wb') as file_1:\n",
    "        file_1.write(soup.encode('utf-8'))\n",
    "    return soup"
   ]
  },
  {
   "cell_type": "code",
   "execution_count": 8,
   "metadata": {},
   "outputs": [],
   "source": [
    "def create_certificate_for_failed_inspection(VIN,result,date,address,dealership,detail_info):\n",
    "    with open('knowsmoke certificate/index_for_failed_inspection.html', 'r') as file_1:\n",
    "        soup = BeautifulSoup(file_1, features='html.parser')\n",
    "\n",
    "    vechicle_VIN = soup.find('label', attrs={'class': \"vin-num\"})\n",
    "    vechicle_VIN.contents[0].replace_with(VIN)# replace VIN\n",
    "    vechicle_VIN.contents[2].replace_with(detail_info)# replace year make model type\n",
    "\n",
    "    test_date = soup.find('label', attrs={'class': \"test-date\"})\n",
    "    test_date.contents[0].replace_with(date)# replace test date\n",
    "\n",
    "    dealership_name = soup.find('div', attrs={'class': \"report-by\"})\n",
    "    dealership_name.contents[0].replace_with(dealership)# replace dealership full name\n",
    "\n",
    "    dealership_address = soup.find('p')\n",
    "    dealership_address.contents[0].replace_with(address)# replace dealership full address\n",
    "\n",
    "    footnotes = soup.find('div', attrs={'class': \"footer-det\"})\n",
    "    footnotes.contents[0].replace_with('I have reviewed and received a copy of the Knowsmoke Smoke History Report for this vehicle' \\\n",
    "    + '(VIN: ' + VIN + '), which is based on information collected by Knowsmoke and available as of ' + date + '.')# replace footnotes\n",
    "\n",
    "    # result_paragraph = soup.find('p', attrs={'class': \"tr-p\"})\n",
    "    # # if results are different, create another template. \n",
    "    # result_paragraph.contents[0].replace_with(\"This vehicle has been found to contain traces of tobacco-specific particles and does not qualify as a Certified Smoke-Free vehicle by Knowsmoke.\")\n",
    "\n",
    "    file_name = 'knowsmoke certificate/' + VIN+'_certificate.html'\n",
    "    with open(file_name, 'wb') as file_1:\n",
    "        file_1.write(soup.encode('utf-8'))\n",
    "    return soup"
   ]
  },
  {
   "cell_type": "code",
   "execution_count": 97,
   "metadata": {},
   "outputs": [
    {
     "data": {
      "text/plain": [
       "0    [\\n, html, \\n, [\\n, [\\n, <script type=\"text/ja...\n",
       "1    [\\n, html, \\n, [\\n, [\\n, <script type=\"text/ja...\n",
       "dtype: object"
      ]
     },
     "execution_count": 97,
     "metadata": {},
     "output_type": "execute_result"
    }
   ],
   "source": [
    "test_df[test_df['Smoke History'] == 'Negative'].apply(lambda x: create_certificate_for_passed_inspection(VIN = x['VIN'], result = x['Smoke History'], \\\n",
    "    date = x['Test Date'], detail_info = x['Combine_info'],dealership = 'Russell West Brook Alfa Romeo Maserati of Van Nuys',\\\n",
    "        address = '5711 Van Nuys Blvd, Van Nuys, CA 91401.'), axis=1)\n",
    "test_df[test_df['Smoke History'] == 'Positive'].apply(lambda x: create_certificate_for_failed_inspection(VIN = x['VIN'], result = x['Smoke History'], \\\n",
    "    date = x['Test Date'], detail_info = x['Combine_info'],dealership = 'Russell West Brook Alfa Romeo Maserati of Van Nuys',\\\n",
    "        address = '5711 Van Nuys Blvd, Van Nuys, CA 91401.'), axis=1)"
   ]
  },
  {
   "cell_type": "code",
   "execution_count": 17,
   "metadata": {},
   "outputs": [
    {
     "ename": "NameError",
     "evalue": "name 'pdfkit' is not defined",
     "output_type": "error",
     "traceback": [
      "\u001b[0;31m---------------------------------------------------------------------------\u001b[0m",
      "\u001b[0;31mNameError\u001b[0m                                 Traceback (most recent call last)",
      "\u001b[1;32m/Users/xiangyikong/Documents/Knowsmoke/Smoke_Certificate_pdf_edit.ipynb Cell 10\u001b[0m in \u001b[0;36m<cell line: 13>\u001b[0;34m()\u001b[0m\n\u001b[1;32m      <a href='vscode-notebook-cell:/Users/xiangyikong/Documents/Knowsmoke/Smoke_Certificate_pdf_edit.ipynb#ch0000009?line=0'>1</a>\u001b[0m options_pdf \u001b[39m=\u001b[39m {\u001b[39m'\u001b[39m\u001b[39menable-local-file-access\u001b[39m\u001b[39m'\u001b[39m: \u001b[39mTrue\u001b[39;00m, \n\u001b[1;32m      <a href='vscode-notebook-cell:/Users/xiangyikong/Documents/Knowsmoke/Smoke_Certificate_pdf_edit.ipynb#ch0000009?line=1'>2</a>\u001b[0m \u001b[39m'\u001b[39m\u001b[39mpage-size\u001b[39m\u001b[39m'\u001b[39m: \u001b[39m'\u001b[39m\u001b[39mA4\u001b[39m\u001b[39m'\u001b[39m, \u001b[39m'\u001b[39m\u001b[39mmargin-top\u001b[39m\u001b[39m'\u001b[39m: \u001b[39m'\u001b[39m\u001b[39m1in\u001b[39m\u001b[39m'\u001b[39m, \n\u001b[1;32m      <a href='vscode-notebook-cell:/Users/xiangyikong/Documents/Knowsmoke/Smoke_Certificate_pdf_edit.ipynb#ch0000009?line=2'>3</a>\u001b[0m \u001b[39m'\u001b[39m\u001b[39mmargin-bottom\u001b[39m\u001b[39m'\u001b[39m: \u001b[39m'\u001b[39m\u001b[39m0.8in\u001b[39m\u001b[39m'\u001b[39m,\n\u001b[0;32m   (...)\u001b[0m\n\u001b[1;32m     <a href='vscode-notebook-cell:/Users/xiangyikong/Documents/Knowsmoke/Smoke_Certificate_pdf_edit.ipynb#ch0000009?line=9'>10</a>\u001b[0m  \u001b[39m'\u001b[39m\u001b[39mfooter-right\u001b[39m\u001b[39m'\u001b[39m: \u001b[39m'\u001b[39m\u001b[39m[page] / [topage]\u001b[39m\u001b[39m'\u001b[39m, \n\u001b[1;32m     <a href='vscode-notebook-cell:/Users/xiangyikong/Documents/Knowsmoke/Smoke_Certificate_pdf_edit.ipynb#ch0000009?line=10'>11</a>\u001b[0m  \u001b[39m'\u001b[39m\u001b[39mno-outline\u001b[39m\u001b[39m'\u001b[39m:\u001b[39mNone\u001b[39;00m }\n\u001b[1;32m     <a href='vscode-notebook-cell:/Users/xiangyikong/Documents/Knowsmoke/Smoke_Certificate_pdf_edit.ipynb#ch0000009?line=11'>12</a>\u001b[0m css \u001b[39m=\u001b[39m \u001b[39m'\u001b[39m\u001b[39m/Users/xiangyikong/Documents/Knowsmoke/knowsmoke certificate/style.css\u001b[39m\u001b[39m'\u001b[39m\n\u001b[0;32m---> <a href='vscode-notebook-cell:/Users/xiangyikong/Documents/Knowsmoke/Smoke_Certificate_pdf_edit.ipynb#ch0000009?line=12'>13</a>\u001b[0m pdfkit\u001b[39m.\u001b[39mfrom_file(\u001b[39m'\u001b[39m\u001b[39m/Users/xiangyikong/Documents/Knowsmoke/knowsmoke certificate/KM8J23A45KU943607_certificate.html\u001b[39m\u001b[39m'\u001b[39m,\\\n\u001b[1;32m     <a href='vscode-notebook-cell:/Users/xiangyikong/Documents/Knowsmoke/Smoke_Certificate_pdf_edit.ipynb#ch0000009?line=13'>14</a>\u001b[0m      \u001b[39m'\u001b[39m\u001b[39m/Users/xiangyikong/Documents/Knowsmoke/knowsmoke certificate/KM8J23A45KU943607_certificate.pdf\u001b[39m\u001b[39m'\u001b[39m, \\\n\u001b[1;32m     <a href='vscode-notebook-cell:/Users/xiangyikong/Documents/Knowsmoke/Smoke_Certificate_pdf_edit.ipynb#ch0000009?line=14'>15</a>\u001b[0m         verbose\u001b[39m=\u001b[39m\u001b[39mTrue\u001b[39;00m, options\u001b[39m=\u001b[39moptions_pdf, css \u001b[39m=\u001b[39mcss)\n\u001b[1;32m     <a href='vscode-notebook-cell:/Users/xiangyikong/Documents/Knowsmoke/Smoke_Certificate_pdf_edit.ipynb#ch0000009?line=15'>16</a>\u001b[0m \u001b[39mprint\u001b[39m(\u001b[39m\"\u001b[39m\u001b[39m=\u001b[39m\u001b[39m\"\u001b[39m\u001b[39m*\u001b[39m\u001b[39m50\u001b[39m)\n",
      "\u001b[0;31mNameError\u001b[0m: name 'pdfkit' is not defined"
     ]
    }
   ],
   "source": [
    "options_pdf = {'enable-local-file-access': True, \n",
    "'page-size': 'A4', 'margin-top': '1in', \n",
    "'margin-bottom': '0.8in',\n",
    " 'margin-right': '0.5in', \n",
    " 'margin-left': '0.5in', \n",
    " 'encoding': \"UTF-8\", \n",
    " 'header-html': '', \n",
    " 'footer-line': '', \n",
    " 'footer-html': '', \n",
    " 'footer-right': '[page] / [topage]', \n",
    " 'no-outline':None }\n",
    "css = '/Users/xiangyikong/Documents/Knowsmoke/knowsmoke certificate/style.css'\n",
    "pdfkit.from_file('/Users/xiangyikong/Documents/Knowsmoke/knowsmoke certificate/KM8J23A45KU943607_certificate.html',\\\n",
    "     '/Users/xiangyikong/Documents/Knowsmoke/knowsmoke certificate/KM8J23A45KU943607_certificate.pdf', \\\n",
    "        verbose=True, options=options_pdf, css =css)\n",
    "print(\"=\"*50)"
   ]
  },
  {
   "cell_type": "code",
   "execution_count": 1,
   "metadata": {},
   "outputs": [],
   "source": [
    "from bs4 import BeautifulSoup\n",
    "import pandas as pd"
   ]
  },
  {
   "cell_type": "markdown",
   "metadata": {},
   "source": [
    "# For LAX Certificate"
   ]
  },
  {
   "cell_type": "code",
   "execution_count": 2,
   "metadata": {},
   "outputs": [
    {
     "data": {
      "text/html": [
       "<div>\n",
       "<style scoped>\n",
       "    .dataframe tbody tr th:only-of-type {\n",
       "        vertical-align: middle;\n",
       "    }\n",
       "\n",
       "    .dataframe tbody tr th {\n",
       "        vertical-align: top;\n",
       "    }\n",
       "\n",
       "    .dataframe thead th {\n",
       "        text-align: right;\n",
       "    }\n",
       "</style>\n",
       "<table border=\"1\" class=\"dataframe\">\n",
       "  <thead>\n",
       "    <tr style=\"text-align: right;\">\n",
       "      <th></th>\n",
       "      <th>#</th>\n",
       "      <th>LAX#</th>\n",
       "      <th>VIN</th>\n",
       "      <th>Stock Number</th>\n",
       "      <th>Source</th>\n",
       "      <th>Prior Rental</th>\n",
       "      <th>Carfax Link</th>\n",
       "      <th>Year</th>\n",
       "      <th>Make</th>\n",
       "      <th>Model</th>\n",
       "      <th>Type</th>\n",
       "      <th>Miles</th>\n",
       "      <th>Owners</th>\n",
       "      <th>Smoke History</th>\n",
       "      <th>Test Date</th>\n",
       "      <th>Rapid Recon</th>\n",
       "      <th>Notes</th>\n",
       "      <th>Folder_Uploaded</th>\n",
       "    </tr>\n",
       "  </thead>\n",
       "  <tbody>\n",
       "    <tr>\n",
       "      <th>0</th>\n",
       "      <td>1.0</td>\n",
       "      <td>190.0</td>\n",
       "      <td>2T2AZMAA4LC168142</td>\n",
       "      <td>KL3278</td>\n",
       "      <td>LAX</td>\n",
       "      <td>No</td>\n",
       "      <td>https://www.carfaxonline.com/cfm/Display_Deale...</td>\n",
       "      <td>2020.0</td>\n",
       "      <td>LEXUS</td>\n",
       "      <td>RX</td>\n",
       "      <td>350 BASE/350 F-SPORT</td>\n",
       "      <td>24374</td>\n",
       "      <td>1.0</td>\n",
       "      <td>Negative</td>\n",
       "      <td>6/1/2022</td>\n",
       "      <td>Yes</td>\n",
       "      <td>NaN</td>\n",
       "      <td>Uploaded</td>\n",
       "    </tr>\n",
       "    <tr>\n",
       "      <th>1</th>\n",
       "      <td>2.0</td>\n",
       "      <td>191.0</td>\n",
       "      <td>5N1AT2MV0KC754834</td>\n",
       "      <td>TL3106</td>\n",
       "      <td>LAX</td>\n",
       "      <td>Yes</td>\n",
       "      <td>https://www.carfaxonline.com/cfm/Display_Deale...</td>\n",
       "      <td>2019.0</td>\n",
       "      <td>NISSAN</td>\n",
       "      <td>ROGUE</td>\n",
       "      <td>S/SL/SV</td>\n",
       "      <td>68157</td>\n",
       "      <td>2.0</td>\n",
       "      <td>Negative</td>\n",
       "      <td>6/1/2022</td>\n",
       "      <td>Yes</td>\n",
       "      <td>NaN</td>\n",
       "      <td>Uploaded</td>\n",
       "    </tr>\n",
       "    <tr>\n",
       "      <th>2</th>\n",
       "      <td>3.0</td>\n",
       "      <td>192.0</td>\n",
       "      <td>WBA8E1G51HNU12807</td>\n",
       "      <td>PL3242</td>\n",
       "      <td>LAX</td>\n",
       "      <td>No</td>\n",
       "      <td>https://www.carfaxonline.com/cfm/Display_Deale...</td>\n",
       "      <td>2017.0</td>\n",
       "      <td>BMW</td>\n",
       "      <td>320I</td>\n",
       "      <td>NaN</td>\n",
       "      <td>99,171</td>\n",
       "      <td>3.0</td>\n",
       "      <td>Negative</td>\n",
       "      <td>6/3/2022</td>\n",
       "      <td>Yes</td>\n",
       "      <td>NaN</td>\n",
       "      <td>Uploaded</td>\n",
       "    </tr>\n",
       "    <tr>\n",
       "      <th>3</th>\n",
       "      <td>4.0</td>\n",
       "      <td>193.0</td>\n",
       "      <td>5XYPG4A54GG094027</td>\n",
       "      <td>TL3110</td>\n",
       "      <td>LAX</td>\n",
       "      <td>No</td>\n",
       "      <td>https://www.carfaxonline.com/cfm/Display_Deale...</td>\n",
       "      <td>2016.0</td>\n",
       "      <td>KIA</td>\n",
       "      <td>SORENTO</td>\n",
       "      <td>LX/L</td>\n",
       "      <td>83,761</td>\n",
       "      <td>3.0</td>\n",
       "      <td>Positive</td>\n",
       "      <td>6/2/2022</td>\n",
       "      <td>Yes</td>\n",
       "      <td>NaN</td>\n",
       "      <td>Uploaded</td>\n",
       "    </tr>\n",
       "    <tr>\n",
       "      <th>4</th>\n",
       "      <td>5.0</td>\n",
       "      <td>194.0</td>\n",
       "      <td>3KPFK4A71HE055194</td>\n",
       "      <td>PL3010</td>\n",
       "      <td>LAX</td>\n",
       "      <td>No</td>\n",
       "      <td>https://www.carfaxonline.com/cfm/Display_Deale...</td>\n",
       "      <td>2017.0</td>\n",
       "      <td>KIA</td>\n",
       "      <td>FORTE</td>\n",
       "      <td>LX</td>\n",
       "      <td>53,679</td>\n",
       "      <td>1.0</td>\n",
       "      <td>Negative</td>\n",
       "      <td>6/1/2022</td>\n",
       "      <td>Yes</td>\n",
       "      <td>NaN</td>\n",
       "      <td>Uploaded</td>\n",
       "    </tr>\n",
       "  </tbody>\n",
       "</table>\n",
       "</div>"
      ],
      "text/plain": [
       "     #   LAX#                VIN Stock Number Source Prior Rental  \\\n",
       "0  1.0  190.0  2T2AZMAA4LC168142       KL3278    LAX           No   \n",
       "1  2.0  191.0  5N1AT2MV0KC754834       TL3106    LAX          Yes   \n",
       "2  3.0  192.0  WBA8E1G51HNU12807       PL3242    LAX           No   \n",
       "3  4.0  193.0  5XYPG4A54GG094027       TL3110    LAX           No   \n",
       "4  5.0  194.0  3KPFK4A71HE055194       PL3010    LAX           No   \n",
       "\n",
       "                                         Carfax Link    Year    Make    Model  \\\n",
       "0  https://www.carfaxonline.com/cfm/Display_Deale...  2020.0   LEXUS       RX   \n",
       "1  https://www.carfaxonline.com/cfm/Display_Deale...  2019.0  NISSAN    ROGUE   \n",
       "2  https://www.carfaxonline.com/cfm/Display_Deale...  2017.0     BMW     320I   \n",
       "3  https://www.carfaxonline.com/cfm/Display_Deale...  2016.0     KIA  SORENTO   \n",
       "4  https://www.carfaxonline.com/cfm/Display_Deale...  2017.0     KIA    FORTE   \n",
       "\n",
       "                   Type   Miles  Owners Smoke History Test Date Rapid Recon  \\\n",
       "0  350 BASE/350 F-SPORT   24374     1.0      Negative  6/1/2022         Yes   \n",
       "1               S/SL/SV   68157     2.0      Negative  6/1/2022         Yes   \n",
       "2                   NaN  99,171     3.0      Negative  6/3/2022         Yes   \n",
       "3                  LX/L  83,761     3.0      Positive  6/2/2022         Yes   \n",
       "4                    LX  53,679     1.0      Negative  6/1/2022         Yes   \n",
       "\n",
       "  Notes Folder_Uploaded  \n",
       "0   NaN        Uploaded  \n",
       "1   NaN        Uploaded  \n",
       "2   NaN        Uploaded  \n",
       "3   NaN        Uploaded  \n",
       "4   NaN        Uploaded  "
      ]
     },
     "execution_count": 2,
     "metadata": {},
     "output_type": "execute_result"
    }
   ],
   "source": [
    "june_LAX_df = pd.read_csv('/Users/xiangyikong/Documents/Knowsmoke/Knowsmoke Master Database List - June 2022 (LAX).csv')\n",
    "june_LAX_df.head(5)"
   ]
  },
  {
   "cell_type": "code",
   "execution_count": 4,
   "metadata": {},
   "outputs": [],
   "source": [
    "june_LAX_df = june_LAX_df[:5]\n",
    "june_LAX_df['Year'] = june_LAX_df['Year'].astype(int)"
   ]
  },
  {
   "cell_type": "code",
   "execution_count": 5,
   "metadata": {},
   "outputs": [],
   "source": [
    "june_LAX_df['Combine_info'] = june_LAX_df['Year'].astype(str) + ' ' + june_LAX_df['Make'].astype(str) + ' ' + june_LAX_df['Model'].astype(str) + ' ' + june_LAX_df['Type'].astype(str)"
   ]
  },
  {
   "cell_type": "code",
   "execution_count": 6,
   "metadata": {},
   "outputs": [
    {
     "data": {
      "text/html": [
       "<div>\n",
       "<style scoped>\n",
       "    .dataframe tbody tr th:only-of-type {\n",
       "        vertical-align: middle;\n",
       "    }\n",
       "\n",
       "    .dataframe tbody tr th {\n",
       "        vertical-align: top;\n",
       "    }\n",
       "\n",
       "    .dataframe thead th {\n",
       "        text-align: right;\n",
       "    }\n",
       "</style>\n",
       "<table border=\"1\" class=\"dataframe\">\n",
       "  <thead>\n",
       "    <tr style=\"text-align: right;\">\n",
       "      <th></th>\n",
       "      <th>VIN</th>\n",
       "      <th>Combine_info</th>\n",
       "      <th>Smoke History</th>\n",
       "      <th>Test Date</th>\n",
       "    </tr>\n",
       "  </thead>\n",
       "  <tbody>\n",
       "    <tr>\n",
       "      <th>0</th>\n",
       "      <td>2T2AZMAA4LC168142</td>\n",
       "      <td>2020 LEXUS RX 350 BASE/350 F-SPORT</td>\n",
       "      <td>Negative</td>\n",
       "      <td>6/1/2022</td>\n",
       "    </tr>\n",
       "    <tr>\n",
       "      <th>1</th>\n",
       "      <td>5N1AT2MV0KC754834</td>\n",
       "      <td>2019 NISSAN ROGUE S/SL/SV</td>\n",
       "      <td>Negative</td>\n",
       "      <td>6/1/2022</td>\n",
       "    </tr>\n",
       "    <tr>\n",
       "      <th>2</th>\n",
       "      <td>WBA8E1G51HNU12807</td>\n",
       "      <td>2017 BMW 320I nan</td>\n",
       "      <td>Negative</td>\n",
       "      <td>6/3/2022</td>\n",
       "    </tr>\n",
       "    <tr>\n",
       "      <th>3</th>\n",
       "      <td>5XYPG4A54GG094027</td>\n",
       "      <td>2016 KIA SORENTO LX/L</td>\n",
       "      <td>Positive</td>\n",
       "      <td>6/2/2022</td>\n",
       "    </tr>\n",
       "    <tr>\n",
       "      <th>4</th>\n",
       "      <td>3KPFK4A71HE055194</td>\n",
       "      <td>2017 KIA FORTE LX</td>\n",
       "      <td>Negative</td>\n",
       "      <td>6/1/2022</td>\n",
       "    </tr>\n",
       "  </tbody>\n",
       "</table>\n",
       "</div>"
      ],
      "text/plain": [
       "                 VIN                        Combine_info Smoke History  \\\n",
       "0  2T2AZMAA4LC168142  2020 LEXUS RX 350 BASE/350 F-SPORT      Negative   \n",
       "1  5N1AT2MV0KC754834           2019 NISSAN ROGUE S/SL/SV      Negative   \n",
       "2  WBA8E1G51HNU12807                   2017 BMW 320I nan      Negative   \n",
       "3  5XYPG4A54GG094027               2016 KIA SORENTO LX/L      Positive   \n",
       "4  3KPFK4A71HE055194                   2017 KIA FORTE LX      Negative   \n",
       "\n",
       "  Test Date  \n",
       "0  6/1/2022  \n",
       "1  6/1/2022  \n",
       "2  6/3/2022  \n",
       "3  6/2/2022  \n",
       "4  6/1/2022  "
      ]
     },
     "execution_count": 6,
     "metadata": {},
     "output_type": "execute_result"
    }
   ],
   "source": [
    "test_df = june_LAX_df[['VIN',\"Combine_info\",\"Smoke History\",\"Test Date\"]][:5]\n",
    "test_df"
   ]
  },
  {
   "cell_type": "code",
   "execution_count": null,
   "metadata": {},
   "outputs": [],
   "source": [
    "dealership = 'LAX Automotive'\n",
    "address = '1030 West Manchester BoulevardInglewood, CA 90301.'"
   ]
  },
  {
   "cell_type": "code",
   "execution_count": 10,
   "metadata": {},
   "outputs": [
    {
     "data": {
      "text/plain": [
       "3    [\\n, html, \\n, [\\n, [\\n, <script type=\"text/ja...\n",
       "dtype: object"
      ]
     },
     "execution_count": 10,
     "metadata": {},
     "output_type": "execute_result"
    }
   ],
   "source": [
    "test_df[test_df['Smoke History'] == 'Negative'].apply(lambda x: create_certificate_for_passed_inspection(VIN = x['VIN'], result = x['Smoke History'], \\\n",
    "    date = x['Test Date'], detail_info = x['Combine_info'],dealership = 'LAX Automotive',\\\n",
    "       address = '1030 West Manchester Blvd Inglewood, CA 90301.'), axis=1)\n",
    "test_df[test_df['Smoke History'] == 'Positive'].apply(lambda x: create_certificate_for_failed_inspection(VIN = x['VIN'], result = x['Smoke History'], \\\n",
    "    date = x['Test Date'], detail_info = x['Combine_info'],dealership = 'LAX Automotive',\\\n",
    "        address = '1030 West Manchester Blvd Inglewood, CA 90301.'), axis=1)"
   ]
  },
  {
   "cell_type": "code",
   "execution_count": null,
   "metadata": {},
   "outputs": [],
   "source": []
  },
  {
   "cell_type": "code",
   "execution_count": null,
   "metadata": {},
   "outputs": [],
   "source": []
  },
  {
   "cell_type": "code",
   "execution_count": null,
   "metadata": {},
   "outputs": [],
   "source": []
  },
  {
   "cell_type": "code",
   "execution_count": 45,
   "metadata": {},
   "outputs": [],
   "source": [
    "from bs4 import BeautifulSoup\n",
    "\n",
    "with open('knowsmoke certificate/index.html', 'r') as file_1:\n",
    "    #soup = BeautifulSoup(file_1, features='lxml')\n",
    "    soup = BeautifulSoup(file_1, features='html.parser')\n",
    "\n",
    "vechicle_VIN = soup.find('label', attrs={'class': \"vin-num\"})\n",
    "test_date = soup.find('label', attrs={'class': \"test-date\"})\n",
    "dealership = soup.find('div', attrs={'class': \"report-by\"})\n",
    "dealership_address = soup.find('p')\n",
    "footnotes = soup.find('div', attrs={'class': \"footer-det\"})\n",
    "vechicle_VIN.contents[0].replace_with(\"11111111111111111\")# replace VIN\n",
    "vechicle_VIN.contents[2].replace_with(\"Year Make Model Type\")# replace year make model type\n",
    "test_date.contents[0].replace_with(\"Test Date\")# replace test date\n",
    "dealership.contents[0].replace_with(\"Dealership Full Name\")# replace dealership full name\n",
    "dealership_address.contents[0].replace_with(\"Dealership Full Address\")# replace dealership full address\n",
    "footnotes.contents[0].replace_with('I have reviewed and received a copy of the Knowsmoke Smoke History Report for this vehicle' \\\n",
    "    + '(VIN: ' + 'VIN_NUM' + '), which is based on information collected by Knowsmoke and available as of 06/24/2022 at 5:08PM (PST).')# replace footnotes\n",
    "\n",
    "with open('Smoke-Free-Certificate_test1Jul22.html', 'wb') as file_1:\n",
    "    file_1.write(soup.encode('utf-8'))"
   ]
  }
 ],
 "metadata": {
  "interpreter": {
   "hash": "0662545c6fd30eceb00c46289e22b5a22aef9c4ebb29470f344626a3bc8eec96"
  },
  "kernelspec": {
   "display_name": "Python 3.9.7 ('base')",
   "language": "python",
   "name": "python3"
  },
  "language_info": {
   "codemirror_mode": {
    "name": "ipython",
    "version": 3
   },
   "file_extension": ".py",
   "mimetype": "text/x-python",
   "name": "python",
   "nbconvert_exporter": "python",
   "pygments_lexer": "ipython3",
   "version": "3.9.7"
  },
  "orig_nbformat": 4
 },
 "nbformat": 4,
 "nbformat_minor": 2
}
